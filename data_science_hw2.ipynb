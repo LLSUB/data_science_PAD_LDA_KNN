{
 "cells": [
  {
   "cell_type": "code",
   "execution_count": 82,
   "metadata": {
    "scrolled": true
   },
   "outputs": [],
   "source": [
    "import os\n",
    "import numpy as np\n",
    "import pandas as pd\n",
    "import cv2\n",
    "import matplotlib.pyplot as plt\n",
    "import glob\n",
    "from sklearn.model_selection import train_test_split\n",
    "from sklearn.decomposition import PCA\n",
    "from sklearn.discriminant_analysis import LinearDiscriminantAnalysis\n",
    "from sklearn.neighbors import KNeighborsClassifier\n",
    "from sklearn import preprocessing\n",
    "from natsort import natsorted, ns\n",
    "from sklearn.model_selection import train_test_split\n",
    "                                                \n",
    "                                             #1. ~ 3. Min-Max Normalization\n",
    "obj10 = []\n",
    "\n",
    "image_data = glob.glob('./coil-20-proc/*.png')\n",
    "\n",
    "image_data=natsorted(image_data, reverse=False)\n",
    "\n",
    "for img in image_data:\n",
    "    grayImg = cv2.imread(img, cv2.IMREAD_GRAYSCALE)\n",
    "    arr = np.array(grayImg)\n",
    "    dst = cv2.resize(arr, dsize=(64, 64), interpolation=cv2.INTER_LINEAR)\n",
    "    norm = preprocessing.minmax_scale(dst, axis=0).reshape(1,64*64)\n",
    "    obj10.append(norm[0])\n",
    "    \n",
    "obj10 = np.array(obj10)\n",
    "                                                        "
   ]
  },
  {
   "cell_type": "code",
   "execution_count": 83,
   "metadata": {
    "scrolled": true
   },
   "outputs": [],
   "source": [
    "                                               #4. Split data into Train/Test\n",
    "train_img = []\n",
    "test_img = []\n",
    "\n",
    "for i in range(0, 20):\n",
    "    data = obj10[i*72:(i+1)*72]\n",
    "    train, test = train_test_split(data, test_size = 0.5)\n",
    "    for j in range(36):\n",
    "        train_img.append(train[j])\n",
    "        test_img.append(test[j])\n",
    "    \n",
    "train_img = np.array(train_img)\n",
    "test_img = np.array(test_img)\n",
    "                                                       "
   ]
  },
  {
   "cell_type": "code",
   "execution_count": 84,
   "metadata": {
    "scrolled": true
   },
   "outputs": [
    {
     "data": {
      "image/png": "[encoded data removed]",
      "text/plain": [
       "<Figure size 432x288 with 1 Axes>"
      ]
     },
     "metadata": {
      "needs_background": "light"
     },
     "output_type": "display_data"
    }
   ],
   "source": [
    "Y = []\n",
    "PCA_accuracy = []\n",
    "LDA_accuracy = []\n",
    "\n",
    "for i in range(20):\n",
    "    for j in range(36):\n",
    "        Y.append(i+1)\n",
    "        \n",
    "Y = np.array(Y)\n",
    "                                               #5. Feature Extraction (PCA, LDA)\n",
    "for dim in range(1,20):\n",
    "    pca = PCA(n_components=dim)\n",
    "    pca.fit(train_img)\n",
    "    Xpca = pca.transform(train_img)\n",
    "            \n",
    "    lda = LinearDiscriminantAnalysis(n_components=dim)\n",
    "    lda.fit(Xpca, Y)\n",
    "    Xlda = lda.transform(Xpca)\n",
    "                          \n",
    "                                               #6. Classification KNN\n",
    "    \n",
    "    neigh = KNeighborsClassifier(n_neighbors=7)\n",
    "    neigh.fit(Xpca, Y) \n",
    "    accu = neigh.score(Xpca, Y)                                   # Compute PCA accuracy \n",
    "    #print(\"dim = %d\" % dim)\n",
    "    #print('PDA accuracy {0:6.2f}% (K={1:})'.format((accu) * 100, 7))\n",
    "    \n",
    "    neigh2 = KNeighborsClassifier(n_neighbors=7)  \n",
    "    neigh2.fit(Xlda, Y)  # Train K-NN\n",
    "    accu2 = neigh2.score(Xlda, Y)                                 # Compute LDA accuracy\n",
    "    #print('LDA accuracy {0:6.2f}% (K={1:})\\n'.format((accu2) * 100, 7))\n",
    "           \n",
    "    PCA_accuracy.append(accu)\n",
    "    LDA_accuracy.append(accu2)\n",
    "    \n",
    "                                               #7. Visualization\n",
    "    \n",
    "t1 = pd.Series(PCA_accuracy, index=np.array(range(1,20)))\n",
    "t2 = pd.Series(LDA_accuracy, index=np.array(range(1,20)))\n",
    "t1.plot(color='b',linestyle='--')\n",
    "t2.plot(color='r')\n",
    "plt.title('PCA va. LDA KNN Accuracy')\n",
    "plt.xlabel('Number of Features')\n",
    "plt.ylabel('Accuracy')\n",
    "plt.show()"
   ]
  }
 ],
 "metadata": {
  "kernelspec": {
   "display_name": "Python 3",
   "language": "python",
   "name": "python3"
  },
  "language_info": {
   "codemirror_mode": {
    "name": "ipython",
    "version": 3
   },
   "file_extension": ".py",
   "mimetype": "text/x-python",
   "name": "python",
   "nbconvert_exporter": "python",
   "pygments_lexer": "ipython3",
   "version": "3.7.4"
  }
 },
 "nbformat": 4,
 "nbformat_minor": 2
}
